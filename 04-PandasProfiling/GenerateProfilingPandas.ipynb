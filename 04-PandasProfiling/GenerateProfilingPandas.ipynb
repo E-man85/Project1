{
 "cells": [
  {
   "cell_type": "markdown",
   "metadata": {},
   "source": [
    "## Generate profiling pandas"
   ]
  },
  {
   "cell_type": "markdown",
   "metadata": {},
   "source": [
    "### Import packages"
   ]
  },
  {
   "cell_type": "code",
   "execution_count": 4,
   "metadata": {},
   "outputs": [],
   "source": [
    "import pandas as pd\n",
    "from pandas_profiling import ProfileReport"
   ]
  },
  {
   "cell_type": "markdown",
   "metadata": {},
   "source": [
    "### Load files"
   ]
  },
  {
   "cell_type": "code",
   "execution_count": 3,
   "metadata": {},
   "outputs": [],
   "source": [
    "dim_customer = pd.read_csv('https://raw.githubusercontent.com/E-man85/project1/main/01-RawData/dim_customer.csv')\n",
    "dim_payments = pd.read_csv('https://raw.githubusercontent.com/E-man85/project1/main/01-RawData/dim_payments.csv')\n",
    "dim_product = pd.read_csv('https://raw.githubusercontent.com/E-man85/project1/main/01-RawData/dim_product.csv')\n",
    "fct_order_item = pd.read_csv('https://raw.githubusercontent.com/E-man85/project1/main/01-RawData/fct_order_item.csv')\n",
    "fct_orders = pd.read_csv('https://raw.githubusercontent.com/E-man85/project1/main/01-RawData/fct_orders.csv')"
   ]
  },
  {
   "cell_type": "markdown",
   "metadata": {},
   "source": [
    "### Generate Profile Report"
   ]
  },
  {
   "cell_type": "code",
   "execution_count": null,
   "metadata": {},
   "outputs": [],
   "source": [
    "prof_dim_customer = ProfileReport(dim_customer) \n",
    "prof_dim_payments = ProfileReport(dim_payments) \n",
    "prof_dim_product = ProfileReport(dim_product)\n",
    "prof_fact_order_item = ProfileReport(fct_order_item)\n",
    "prof_fact_orders= ProfileReport(fct_orders)\n",
    "prof_dim_customer.to_file(output_file='PR_dim_customer.html')\n",
    "prof_dim_payments.to_file(output_file='PR_dim_payments.html')\n",
    "prof_dim_product.to_file(output_file='PR_dim_product.html')\n",
    "prof_fact_order_item.to_file(output_file='PR_fact_order_item.html')\n",
    "prof_fact_orders.to_file(output_file='PR_fact_orders.html')"
   ]
  }
 ],
 "metadata": {
  "kernelspec": {
   "display_name": "projeto1",
   "language": "python",
   "name": "python3"
  },
  "language_info": {
   "codemirror_mode": {
    "name": "ipython",
    "version": 3
   },
   "file_extension": ".py",
   "mimetype": "text/x-python",
   "name": "python",
   "nbconvert_exporter": "python",
   "pygments_lexer": "ipython3",
   "version": "3.10.10"
  },
  "orig_nbformat": 4
 },
 "nbformat": 4,
 "nbformat_minor": 2
}
